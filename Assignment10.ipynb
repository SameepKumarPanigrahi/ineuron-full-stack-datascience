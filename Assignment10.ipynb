{
 "cells": [
  {
   "cell_type": "markdown",
   "metadata": {},
   "source": [
    "#### How do you distinguish between shutil.copy() and shutil.copytree()?"
   ]
  },
  {
   "cell_type": "markdown",
   "metadata": {},
   "source": [
    "The Function shutil.copy() will copy a single file . The shutil.copy() method will copy the entire folder including all its element . "
   ]
  },
  {
   "cell_type": "markdown",
   "metadata": {},
   "source": [
    "#### What function is used to rename files?"
   ]
  },
  {
   "cell_type": "markdown",
   "metadata": {},
   "source": [
    "To rename a file we can use this function shutil.move() ."
   ]
  },
  {
   "cell_type": "markdown",
   "metadata": {},
   "source": [
    "#### What is the difference between the delete functions in the send2trash and shutil modules?"
   ]
  },
  {
   "cell_type": "markdown",
   "metadata": {},
   "source": [
    "The shutil module will delete the folder permenently where as the send2trash function move the folder to recyclebin"
   ]
  },
  {
   "cell_type": "markdown",
   "metadata": {},
   "source": [
    "#### ZipFile objects have a close() method just like File objects’ close() method. What ZipFile method is equivalent to File objects’ open() method?"
   ]
  },
  {
   "cell_type": "markdown",
   "metadata": {},
   "source": [
    "The zipfile.ZipFile() function is equivalent to the open() function ."
   ]
  },
  {
   "cell_type": "markdown",
   "metadata": {},
   "source": [
    "#### Create a programme that searches a folder tree for files with a certain file extensio . Copy these files from whatever location they are in to a new folder."
   ]
  },
  {
   "cell_type": "code",
   "execution_count": null,
   "metadata": {},
   "outputs": [],
   "source": [
    "import os, shutil\n",
    "\n",
    "def select_and_copy(folder, destinationFolder, extension) :\n",
    "    d = (folder)\n",
    "    folder = os.path.abspath(folder)\n",
    "    dest = destinationFolder\n",
    "    destinationFolder = os.path.abspath(destinationFolder)#.rstrip(dest)\n",
    "    for foldername, subfolders, files in os.walk(folder.rstrip(d)):\n",
    "        for filename in files :\n",
    "            name, ext = os.path.splitext(filename)\n",
    "            if (ext == extension) :\n",
    "                fileAbsPath = folder.rstrip(d)+filename\n",
    "                try :\n",
    "                    shutil.copy(fileAbsPath, destinationFolder)\n",
    "                    \n",
    "                except Exception as e :\n",
    "                    print(e)\n",
    "    \n",
    "select_and_copy('PythonBasicAssignment','pythonBasicAssignmentGit', '.ipynb')"
   ]
  }
 ],
 "metadata": {
  "kernelspec": {
   "display_name": "Python 3",
   "language": "python",
   "name": "python3"
  },
  "language_info": {
   "codemirror_mode": {
    "name": "ipython",
    "version": 3
   },
   "file_extension": ".py",
   "mimetype": "text/x-python",
   "name": "python",
   "nbconvert_exporter": "python",
   "pygments_lexer": "ipython3",
   "version": "3.7.6"
  }
 },
 "nbformat": 4,
 "nbformat_minor": 4
}
