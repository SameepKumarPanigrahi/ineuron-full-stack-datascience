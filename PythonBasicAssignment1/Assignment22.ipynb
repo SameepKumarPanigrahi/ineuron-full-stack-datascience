{
 "cells": [
  {
   "cell_type": "markdown",
   "metadata": {},
   "source": [
    "####  What is the result of the code, and explain?\n",
    "\n",
    "X = 'iNeuron'\n",
    "\n",
    "def func():\n",
    "\n",
    "    print(X)\n",
    "    \n",
    "func()"
   ]
  },
  {
   "cell_type": "markdown",
   "metadata": {},
   "source": [
    "It will print the ineuron here . The x variable is declared here and the fuction is printing that variable and we are calling that function ."
   ]
  },
  {
   "cell_type": "markdown",
   "metadata": {},
   "source": [
    "### What is the result of the code, and explain?\n",
    "\n",
    "X = 'iNeuron'\n",
    "\n",
    "def func():\n",
    "\n",
    "    X = 'NI!'\n",
    "\n",
    "func()\n",
    "\n",
    "    print(X)\n"
   ]
  },
  {
   "cell_type": "markdown",
   "metadata": {},
   "source": [
    "It wil print iNeuron because the x variable is declared globally decalred as 'ineuron' . In the function we have defined the variable x = NI . When in the function we are declaring the same variable name which was decaled globally then the compiler treats both the variable differntly . "
   ]
  },
  {
   "cell_type": "markdown",
   "metadata": {},
   "source": [
    "#### What does this code print, and why?\n",
    "\n",
    "X = 'iNeuron'\n",
    "\n",
    "def func():\n",
    "\n",
    "    X = 'NI'\n",
    "    print(X)\n",
    "\n",
    "func()\n",
    "\n",
    "print(X)\n"
   ]
  },
  {
   "cell_type": "raw",
   "metadata": {},
   "source": [
    "The print statement present inside the function will print NI because its prining the local variable x and the print statement outside the function will print ineuron because its printing the global variable x .  "
   ]
  },
  {
   "cell_type": "markdown",
   "metadata": {},
   "source": [
    "#### What output does this code produce? Why?\n",
    "X = 'iNeuron'\n",
    "\n",
    "def func():\n",
    "    \n",
    "    global X\n",
    "    X = 'NI'\n",
    "    \n",
    "func()\n",
    "\n",
    "print(X)\n"
   ]
  },
  {
   "cell_type": "raw",
   "metadata": {},
   "source": [
    "This will print 'NI' because in the function we are asking the compiler that we need to update the value of x which was globally declared . "
   ]
  },
  {
   "cell_type": "markdown",
   "metadata": {},
   "source": [
    "####  What about this code—what’s the output, and why?\n",
    "X = 'iNeuron'\n",
    "\n",
    "def func():\n",
    "    X = 'NI'\n",
    "    \n",
    "    def nested():\n",
    "    \n",
    "    print(X)\n",
    "    \n",
    "    nested()\n",
    "\n",
    "func()\n",
    "\n",
    "X"
   ]
  },
  {
   "cell_type": "raw",
   "metadata": {},
   "source": [
    "The print statement inside the nested function wil print 'NI' because we have declared a local variable in the function and the print statement outside of the function will print 'iNeuron' . "
   ]
  },
  {
   "cell_type": "markdown",
   "metadata": {},
   "source": [
    "####  How about this code: what is its output in Python 3, and explain?\n",
    "def func():\n",
    "\n",
    "    X = 'NI'\n",
    "    \n",
    "    def nested():\n",
    "    \n",
    "        nonlocal X\n",
    "        \n",
    "        X = 'Spam'\n",
    "    \n",
    "    nested()\n",
    "    \n",
    "    print(X)\n",
    " \n",
    "func()\n",
    "\n"
   ]
  },
  {
   "cell_type": "raw",
   "metadata": {},
   "source": [
    "This will print nonspam because in the nested function we are using the key word nonlocal which will refer to the variabel which is declared as x = 'NI' and it will update that valrible . "
   ]
  },
  {
   "cell_type": "code",
   "execution_count": null,
   "metadata": {},
   "outputs": [],
   "source": []
  }
 ],
 "metadata": {
  "kernelspec": {
   "display_name": "Python 3",
   "language": "python",
   "name": "python3"
  },
  "language_info": {
   "codemirror_mode": {
    "name": "ipython",
    "version": 3
   },
   "file_extension": ".py",
   "mimetype": "text/x-python",
   "name": "python",
   "nbconvert_exporter": "python",
   "pygments_lexer": "ipython3",
   "version": "3.7.6"
  }
 },
 "nbformat": 4,
 "nbformat_minor": 4
}
