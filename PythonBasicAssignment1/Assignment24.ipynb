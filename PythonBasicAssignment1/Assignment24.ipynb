{
 "cells": [
  {
   "cell_type": "markdown",
   "metadata": {},
   "source": [
    "#### What is the relationship between def statements and lambda expressions ? "
   ]
  },
  {
   "cell_type": "raw",
   "metadata": {},
   "source": [
    "The def statement :- \n",
    "\n",
    "    1.It is a function can contain multiple expression in it .\n",
    "    \n",
    "    2.It will generate a function and its having name so we can call it any time .\n",
    "    \n",
    "    3.It can have return statement \n",
    "    \n",
    "The Lambda expression :- \n",
    "\n",
    "    1.It can contain only one expression \n",
    "    \n",
    "    2.It forms a function object and return value immedietly .\n",
    "    \n",
    "    3.It can't have a return statement ."
   ]
  },
  {
   "cell_type": "markdown",
   "metadata": {},
   "source": [
    "#### What is the benefit of lambda? "
   ]
  },
  {
   "cell_type": "markdown",
   "metadata": {},
   "source": [
    "lambda functions can be easily passed without being assigned to a variable.It is inline function so it execute faster then the normal function . "
   ]
  },
  {
   "cell_type": "markdown",
   "metadata": {},
   "source": [
    "#### Compare and contrast map, filter, and reduce."
   ]
  },
  {
   "cell_type": "markdown",
   "metadata": {},
   "source": [
    "map() :- \n",
    "        The syntax will be (finction, iterable) . This will return a list of boolean value . \n",
    "        It will take all the value from iterable and and pass it to the function . If the function will return value then it will keep on collecting value and append it to the list at the end it will give result as list of values . If the function will return boolean in that case it will give list of boolean value . \n",
    "        \n",
    "filter() :-\n",
    "            The syntax will be (function, iterable) . The returned value will be list of value . It will take all the value from iterable and and pass it to the function . If the function will return value then it will keep on collecting value and append it to the list at the end it will give result as list of values . If the function will return boolean then it will try to get that value for which the function is returning true and append those value to a list . Finally it will return that list . \n",
    "\n",
    "reduce():- \n",
    "            The reduce function syntax will be like this (function, sequence) . In the first iteration it will pass first 2 element of the sequence or list to the function and get the result . In the next step it will pick up the 3rd element and the previous result then it will pass these 2 value to get the result . It will goes on like this to get the final single result ."
   ]
  },
  {
   "cell_type": "markdown",
   "metadata": {},
   "source": [
    "#### What are function annotations, and how are they used?"
   ]
  },
  {
   "cell_type": "markdown",
   "metadata": {},
   "source": [
    "Function annotation are python expression which is associated with various part of the function . These expressions are evaluated at compile time .  We can get the benifit of using it via third party libraries . The type of benefits depends upon the type of the library we are using . "
   ]
  },
  {
   "cell_type": "markdown",
   "metadata": {},
   "source": [
    "#### What are recursive functions, and how are they used?"
   ]
  },
  {
   "cell_type": "markdown",
   "metadata": {},
   "source": [
    "The function which call itself directly or indirectly called recursive function . Sequence creation is simpler through recursion than utilizing any nested iteration."
   ]
  },
  {
   "cell_type": "markdown",
   "metadata": {},
   "source": [
    "#### What are some general design guidelines for coding functions?"
   ]
  },
  {
   "cell_type": "markdown",
   "metadata": {},
   "source": [
    "Use docstrings on every method .\n",
    "\n",
    "Use 4-space indentation and no tabs.\n",
    "\n",
    "Use of regular and updated comments . \n",
    "\n",
    "Use spaces around operators and after commas, but not directly inside bracketing constructs .\n",
    "\n",
    "Use Python’s default UTF-8 or ASCII encodings and not any fancy encodings .\n",
    "\n",
    "Naming Conventions :  lowercase , lower_case_eith_underscore \n",
    "\n",
    "Characters that should not be used for identifiers"
   ]
  }
 ],
 "metadata": {
  "kernelspec": {
   "display_name": "Python 3",
   "language": "python",
   "name": "python3"
  },
  "language_info": {
   "codemirror_mode": {
    "name": "ipython",
    "version": 3
   },
   "file_extension": ".py",
   "mimetype": "text/x-python",
   "name": "python",
   "nbconvert_exporter": "python",
   "pygments_lexer": "ipython3",
   "version": "3.7.6"
  }
 },
 "nbformat": 4,
 "nbformat_minor": 4
}
