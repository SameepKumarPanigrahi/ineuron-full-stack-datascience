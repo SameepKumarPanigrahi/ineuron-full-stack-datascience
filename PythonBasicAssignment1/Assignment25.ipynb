{
 "cells": [
  {
   "cell_type": "markdown",
   "metadata": {},
   "source": [
    "####  What is the difference between enclosing a list comprehension in square brackets and parentheses?"
   ]
  },
  {
   "cell_type": "markdown",
   "metadata": {},
   "source": [
    "If we will enclose a list comprehension in a square bracket then result will be list . If we will enclose list comprehension in paranthesis then it will become a generator . "
   ]
  },
  {
   "cell_type": "markdown",
   "metadata": {},
   "source": [
    "#### What is the relationship between generators and iterators? "
   ]
  },
  {
   "cell_type": "markdown",
   "metadata": {},
   "source": [
    "Iterator is an object which contain some element in it and it used to iterate over iterable object like list,tuple,sets etc . \n",
    "This list, tuple and set are iterable object but its not a iterator to make it iterator we need to use this iter() function . To findout next element we can use next() function . It follow lazy evaluation so wastage of RAM memory will not be there . \n",
    "\n",
    "Geneator is also one kind of iterator and we can create it by using yeield keyword in a function . It follow lazy evaluation so wastage of RAM memory will not be there"
   ]
  },
  {
   "cell_type": "markdown",
   "metadata": {},
   "source": [
    "####  What are the signs that a function is a generator function?"
   ]
  },
  {
   "cell_type": "markdown",
   "metadata": {},
   "source": [
    "If a fuction contain atleast one yield function then it become a generator function . "
   ]
  },
  {
   "cell_type": "markdown",
   "metadata": {},
   "source": [
    "#### What is the purpose of a yield statement? "
   ]
  },
  {
   "cell_type": "markdown",
   "metadata": {},
   "source": [
    "Yield will convert a function to a generator .It will return the value without actually exiting the function in other words we can say it return value from a function without destroying the states of its local variable . It will remember what it produced last time and what is the logic and where to stop ."
   ]
  },
  {
   "cell_type": "markdown",
   "metadata": {},
   "source": [
    "####  What is the relationship between map calls and list comprehensions? Make a comparison and contrast between the two."
   ]
  },
  {
   "cell_type": "markdown",
   "metadata": {},
   "source": [
    "Map is faster interms of calls and execution when we are already having a user defined function . List comprehension is slow comapre to the map . \n",
    "\n",
    "List comprehension will be faster than map when we need to evaluate expressions that are too long or complicated to express .\n",
    "Redability of list comprehension is more then the map . \n",
    "\n",
    "Suppose we are having a function and we want the function to compute the value for a list of record in a sinle line then we will use map in that case . It does not support filter operation . Here the output will be map \n",
    "\n",
    "List comprehension is a substitue of map,filter and reduce function . Here the output will be a list . \n"
   ]
  }
 ],
 "metadata": {
  "kernelspec": {
   "display_name": "Python 3",
   "language": "python",
   "name": "python3"
  },
  "language_info": {
   "codemirror_mode": {
    "name": "ipython",
    "version": 3
   },
   "file_extension": ".py",
   "mimetype": "text/x-python",
   "name": "python",
   "nbconvert_exporter": "python",
   "pygments_lexer": "ipython3",
   "version": "3.7.6"
  }
 },
 "nbformat": 4,
 "nbformat_minor": 4
}
