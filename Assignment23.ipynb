{
 "cells": [
  {
   "cell_type": "markdown",
   "metadata": {},
   "source": [
    "####  What is the result of the code, and why?\n",
    "def func(a, b=6, c=8):\n",
    "\n",
    "    print(a, b, c)\n",
    "\n",
    "func(1, 2)\n"
   ]
  },
  {
   "cell_type": "raw",
   "metadata": {},
   "source": [
    "It will print 1, 2 and 8 . In the function itself we have defined 2 variables value it means if we will call the function by giving one value then it will take these 2 defined value . If we will call this function with 2 value then it will take 2 value from the function calling statement and one value from the function itself . "
   ]
  },
  {
   "cell_type": "markdown",
   "metadata": {},
   "source": [
    "####  What is the result of this code, and why?\n",
    "def func(a, b, c=5):\n",
    "\n",
    "    print(a, b, c)\n",
    "\n",
    "func(1, c=3, b=2)\n"
   ]
  },
  {
   "cell_type": "raw",
   "metadata": {},
   "source": [
    "It will print 1,2,3 because at the function calling point we are defining all the values . We are defining the value of c will be 3 at the function calling time that's why its not taking the default value which is defined in the function . "
   ]
  },
  {
   "cell_type": "markdown",
   "metadata": {},
   "source": [
    "####  How about this code: what is its result, and why?\n",
    "def func(a, *pargs):\n",
    "\n",
    "    print(a, pargs)\n",
    "\n",
    "func(1, 2, 3)\n"
   ]
  },
  {
   "cell_type": "raw",
   "metadata": {},
   "source": [
    "It will print all the value 1,2,3 where 2 and 3 will in from of tuple . * in python represents non-keyword arguments here we van pass a number of value . "
   ]
  },
  {
   "cell_type": "markdown",
   "metadata": {},
   "source": [
    "####  What does this code print, and why?\n",
    "def func(a, **kargs):\n",
    "    \n",
    "    print(a, kargs)\n",
    " \n",
    "func(a=1, c=3, b=2)\n"
   ]
  },
  {
   "cell_type": "raw",
   "metadata": {},
   "source": [
    "It will print 1 {'c': 3, 'b': 2} . **kargs is keyword arguments we need to pass value by assigning to a variable ."
   ]
  },
  {
   "cell_type": "markdown",
   "metadata": {},
   "source": [
    "#### 5. What gets printed by this, and explain?\n",
    "def func(a, b, c=8, d=5): \n",
    "\n",
    "    print(a, b, c, d)\n",
    "\n",
    "func(1, *(5, 6))\n"
   ]
  },
  {
   "cell_type": "raw",
   "metadata": {},
   "source": [
    "It will print 1 5 6 5 . As in the function calling statement we are passing * with 2 values then it will iterate through it and assign value to the rest of the variable . "
   ]
  },
  {
   "cell_type": "markdown",
   "metadata": {},
   "source": [
    "#### what is the result of this, and explain?\n",
    "def func(a, b, c): a = 2; b[0] = 'x'; c['a'] = 'y'\n",
    " \n",
    "l=1; m=[1]; n={'a':0}\n",
    "\n",
    "func(l, m, n)\n",
    "\n",
    "l, m, n\n"
   ]
  },
  {
   "cell_type": "raw",
   "metadata": {},
   "source": [
    "It will print (1, ['x'], {'a': 'y'}) . Here we are passing 3 things first one is variable and we have not defined that global keyword inside the function so it will treat it as local variable . second one is list and we are reassinging the value to the list . 3rd one is a ductionary and we are reassigning the value to the dictionary as well . "
   ]
  },
  {
   "cell_type": "code",
   "execution_count": null,
   "metadata": {},
   "outputs": [],
   "source": []
  }
 ],
 "metadata": {
  "kernelspec": {
   "display_name": "Python 3",
   "language": "python",
   "name": "python3"
  },
  "language_info": {
   "codemirror_mode": {
    "name": "ipython",
    "version": 3
   },
   "file_extension": ".py",
   "mimetype": "text/x-python",
   "name": "python",
   "nbconvert_exporter": "python",
   "pygments_lexer": "ipython3",
   "version": "3.7.6"
  }
 },
 "nbformat": 4,
 "nbformat_minor": 4
}
