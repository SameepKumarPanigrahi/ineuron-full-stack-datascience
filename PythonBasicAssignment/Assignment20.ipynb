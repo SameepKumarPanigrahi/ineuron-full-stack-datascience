{
 "cells": [
  {
   "cell_type": "markdown",
   "metadata": {},
   "source": [
    "#### Set the variable test1 to the string 'This is a test of the emergency text system,' and save test1 to a file named test.txt."
   ]
  },
  {
   "cell_type": "code",
   "execution_count": 2,
   "metadata": {},
   "outputs": [],
   "source": [
    "test1 = 'This is a test of the emergency text system,'\n",
    "file = open('test.txt','w')\n",
    "file.write(test1)\n",
    "file.close()"
   ]
  },
  {
   "cell_type": "markdown",
   "metadata": {},
   "source": [
    "#### Read the contents of the file test.txt into the variable test2. Is there a difference between test 1 and test 2?"
   ]
  },
  {
   "cell_type": "code",
   "execution_count": 5,
   "metadata": {},
   "outputs": [
    {
     "name": "stdout",
     "output_type": "stream",
     "text": [
      "This is a test of the emergency text system,\n"
     ]
    }
   ],
   "source": [
    "file = open('test.txt','r')\n",
    "test2 = file.read()\n",
    "print(test2)\n",
    "file.close()\n",
    "#Ther is no difference"
   ]
  },
  {
   "cell_type": "markdown",
   "metadata": {},
   "source": [
    "#### Create a CSV file called books.csv by using these lines:\n",
    "title,author,year\n",
    "\n",
    "The Weirdstone of Brisingamen,Alan Garner,1960\n",
    "\n",
    "Perdido Street Station,China Miéville,2000\n",
    "\n",
    "Thud!,Terry Pratchett,2005\n",
    "\n",
    "The Spellman Files,Lisa Lutz,2007\n",
    "\n",
    "Small Gods,Terry Pratchett,1992\n"
   ]
  },
  {
   "cell_type": "code",
   "execution_count": 19,
   "metadata": {},
   "outputs": [],
   "source": [
    "import csv\n",
    "headings = ['title', 'author', 'year']\n",
    "all_rows = [['The Weirdstone of Brisingamen', 'Alan Garner', '1960'],\n",
    "           ['Perdido Street Station', 'China Miéville', '2000'],\n",
    "           ['Thud!', 'Terry Pratchett', '2005'],\n",
    "           ['The Spellman Files', 'Lisa Lutz', '2007'],\n",
    "           ['Small Gods',' Terry Pratchett', '1992']]\n",
    "with open ('books.csv', 'w',encoding='UTF8', newline='') as file :\n",
    "    writer = csv.writer(file, lineterminator='\\n')\n",
    "    writer.writerow(headings)\n",
    "    for line in all_rows:\n",
    "        writer.writerow(line)\n",
    "    file.close()"
   ]
  },
  {
   "cell_type": "markdown",
   "metadata": {},
   "source": [
    "#### Use the sqlite3 module to create a SQLite database called books.db, and a table called books with these fields: title (text), author (text), and year (integer)."
   ]
  },
  {
   "cell_type": "markdown",
   "metadata": {},
   "source": [
    "import sqlite3\n",
    "conn = sqlite3.connect('books.db')\n",
    "c = conn.cursor()\n",
    "c.execute('create table books(title varchar(20),author varchar(20), year int)')\n",
    "conn.commit()"
   ]
  },
  {
   "cell_type": "markdown",
   "metadata": {},
   "source": [
    "#### Read books.csv and insert its data into the book table."
   ]
  },
  {
   "cell_type": "code",
   "execution_count": 24,
   "metadata": {},
   "outputs": [],
   "source": [
    "import pandas as pd\n",
    "\n",
    "read_books = pd.read_csv('books.csv',encoding='unicode_escape')\n",
    "read_books.to_sql('books', conn, if_exists='append', index = False)"
   ]
  },
  {
   "cell_type": "markdown",
   "metadata": {},
   "source": [
    "#### Select and print the title column from the book table in alphabetical order."
   ]
  },
  {
   "cell_type": "code",
   "execution_count": 25,
   "metadata": {},
   "outputs": [
    {
     "name": "stdout",
     "output_type": "stream",
     "text": [
      "[('Perdido Street Station',), ('Small Gods',), ('The Spellman Files',), ('The Weirdstone of Brisingamen',), ('Thud!',)]\n"
     ]
    }
   ],
   "source": [
    "c.execute('select title from books order by title asc')\n",
    "print(c.fetchall())"
   ]
  },
  {
   "cell_type": "markdown",
   "metadata": {},
   "source": [
    "#### From the book table, select and print all columns in the order of publication."
   ]
  },
  {
   "cell_type": "code",
   "execution_count": 26,
   "metadata": {},
   "outputs": [
    {
     "data": {
      "text/html": [
       "<div>\n",
       "<style scoped>\n",
       "    .dataframe tbody tr th:only-of-type {\n",
       "        vertical-align: middle;\n",
       "    }\n",
       "\n",
       "    .dataframe tbody tr th {\n",
       "        vertical-align: top;\n",
       "    }\n",
       "\n",
       "    .dataframe thead th {\n",
       "        text-align: right;\n",
       "    }\n",
       "</style>\n",
       "<table border=\"1\" class=\"dataframe\">\n",
       "  <thead>\n",
       "    <tr style=\"text-align: right;\">\n",
       "      <th></th>\n",
       "      <th>title</th>\n",
       "      <th>author</th>\n",
       "      <th>year</th>\n",
       "    </tr>\n",
       "  </thead>\n",
       "  <tbody>\n",
       "    <tr>\n",
       "      <th>0</th>\n",
       "      <td>The Weirdstone of Brisingamen</td>\n",
       "      <td>Alan Garner</td>\n",
       "      <td>1960</td>\n",
       "    </tr>\n",
       "    <tr>\n",
       "      <th>1</th>\n",
       "      <td>Small Gods</td>\n",
       "      <td>Terry Pratchett</td>\n",
       "      <td>1992</td>\n",
       "    </tr>\n",
       "    <tr>\n",
       "      <th>2</th>\n",
       "      <td>Perdido Street Station</td>\n",
       "      <td>China MiÃ©ville</td>\n",
       "      <td>2000</td>\n",
       "    </tr>\n",
       "    <tr>\n",
       "      <th>3</th>\n",
       "      <td>Thud!</td>\n",
       "      <td>Terry Pratchett</td>\n",
       "      <td>2005</td>\n",
       "    </tr>\n",
       "    <tr>\n",
       "      <th>4</th>\n",
       "      <td>The Spellman Files</td>\n",
       "      <td>Lisa Lutz</td>\n",
       "      <td>2007</td>\n",
       "    </tr>\n",
       "  </tbody>\n",
       "</table>\n",
       "</div>"
      ],
      "text/plain": [
       "                           title            author  year\n",
       "0  The Weirdstone of Brisingamen       Alan Garner  1960\n",
       "1                     Small Gods   Terry Pratchett  1992\n",
       "2         Perdido Street Station   China MiÃ©ville  2000\n",
       "3                          Thud!   Terry Pratchett  2005\n",
       "4             The Spellman Files         Lisa Lutz  2007"
      ]
     },
     "execution_count": 26,
     "metadata": {},
     "output_type": "execute_result"
    }
   ],
   "source": [
    "c.execute('select title, author,year from books order by year')\n",
    "df = pd.DataFrame(c.fetchall(), columns=['title','author','year'])\n",
    "df"
   ]
  },
  {
   "cell_type": "markdown",
   "metadata": {},
   "source": [
    "#### Use the sqlalchemy module to connect to the sqlite3 database books.db that you just made in exercise 6."
   ]
  },
  {
   "cell_type": "code",
   "execution_count": 27,
   "metadata": {},
   "outputs": [
    {
     "name": "stdout",
     "output_type": "stream",
     "text": [
      "('The Weirdstone of Brisingamen', 'Alan Garner', 1960)\n",
      "('Perdido Street Station', 'China MiÃ©ville', 2000)\n",
      "('Thud!', 'Terry Pratchett', 2005)\n",
      "('The Spellman Files', 'Lisa Lutz', 2007)\n",
      "('Small Gods', ' Terry Pratchett', 1992)\n"
     ]
    }
   ],
   "source": [
    "import sqlalchemy\n",
    "engine = sqlalchemy.create_engine(\"sqlite:///books.db\")\n",
    "rows = engine.execute('select * from books')\n",
    "for i in rows:\n",
    "    print(i)"
   ]
  },
  {
   "cell_type": "markdown",
   "metadata": {},
   "source": [
    "#### Install the Redis server and the Python redis library (pip install redis) on your computer. Create a Redis hash called test with the fields count (1) and name ('Fester Bestertester'). Print all the fields for test."
   ]
  },
  {
   "cell_type": "markdown",
   "metadata": {},
   "source": [
    "!pip install redis"
   ]
  },
  {
   "cell_type": "markdown",
   "metadata": {},
   "source": [
    "import redis\n",
    "conn = redis.Redis()\n",
    "conn.delete('test')\n",
    "conn.hmset('test', {'count': 1, 'name': 'Fester Bestertester'})\n",
    "conn.hgetall('test')"
   ]
  },
  {
   "cell_type": "markdown",
   "metadata": {},
   "source": [
    "####  Increment the count field of test and print it."
   ]
  },
  {
   "cell_type": "markdown",
   "metadata": {},
   "source": [
    "conn.hincrby('test','count', 3)"
   ]
  }
 ],
 "metadata": {
  "kernelspec": {
   "display_name": "Python 3",
   "language": "python",
   "name": "python3"
  },
  "language_info": {
   "codemirror_mode": {
    "name": "ipython",
    "version": 3
   },
   "file_extension": ".py",
   "mimetype": "text/x-python",
   "name": "python",
   "nbconvert_exporter": "python",
   "pygments_lexer": "ipython3",
   "version": "3.7.6"
  }
 },
 "nbformat": 4,
 "nbformat_minor": 4
}
