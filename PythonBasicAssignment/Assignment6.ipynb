{
 "cells": [
  {
   "cell_type": "markdown",
   "metadata": {},
   "source": [
    "#### What are escape characters, and how do you use them?"
   ]
  },
  {
   "cell_type": "markdown",
   "metadata": {},
   "source": [
    "The backslash \\ :- It allows you to use double quotes inside the string .  \n",
    "The '\\n' is new line :- This will print in the new line .\n",
    "\n",
    "The '\\r' is carriage return :- It helps us move the cursor at the beginning of the line without moving the cursor to the new line.\n",
    "\n",
    "The '\\t' is tab space :- It will give tab space inside the string .\n",
    "\n",
    "The '\\b' is backspce :- It will remove the space from the string ."
   ]
  },
  {
   "cell_type": "markdown",
   "metadata": {},
   "source": [
    "#### What do the escape characters n and t stand for?"
   ]
  },
  {
   "cell_type": "markdown",
   "metadata": {},
   "source": [
    "The /n is for new line and /t is for tab space . "
   ]
  },
  {
   "cell_type": "markdown",
   "metadata": {},
   "source": [
    "#### What is the way to include backslash characters in a string?"
   ]
  },
  {
   "cell_type": "markdown",
   "metadata": {},
   "source": [
    "The \\\\ escape character will represent a backslash character."
   ]
  },
  {
   "cell_type": "markdown",
   "metadata": {},
   "source": [
    "#### The string \"Howl's Moving Castle\" is a correct value. Why isn't the single quote character in the word Howl's not escaped a problem?"
   ]
  },
  {
   "cell_type": "markdown",
   "metadata": {},
   "source": [
    "In the begining and at the end both places we have use the double quote . For that reason there in no escape problem "
   ]
  },
  {
   "cell_type": "markdown",
   "metadata": {},
   "source": [
    "#### How do you write a string of newlines if you don't want to use the n character?"
   ]
  },
  {
   "cell_type": "markdown",
   "metadata": {},
   "source": [
    "Ther is a concept called multiline strings through that we can write in new lines without using the n character ."
   ]
  },
  {
   "cell_type": "markdown",
   "metadata": {},
   "source": [
    "#### What are the values of the given expressions?\n",
    "'Hello, world!'[1] :- e\n",
    "\n",
    "'Hello, world!'[0:5] :- Hello\n",
    "\n",
    "'Hello, world!'[:5] :- Hello\n",
    "\n",
    "'Hello, world!'[3:] :- lo world\n"
   ]
  },
  {
   "cell_type": "markdown",
   "metadata": {},
   "source": [
    "#### What are the values of the following expressions?\n",
    "'Hello'.upper() :- HELLO\n",
    "\n",
    "'Hello'.upper().isupper() :- True\n",
    "\n",
    "'Hello'.upper().lower() :- hello\n"
   ]
  },
  {
   "cell_type": "markdown",
   "metadata": {},
   "source": [
    "#### What are the values of the following expressions?\n",
    "'Remember, remember, the fifth of July.'.split() :- ['Remember,', 'remember,', 'the', 'fifth', 'of', 'November.']\n",
    "\n",
    "'-'.join('There can only one.'.split()) :- There-can-be-only-one.\n"
   ]
  },
  {
   "cell_type": "markdown",
   "metadata": {},
   "source": [
    "#### What are the methods for right-justifying, left-justifying, and centering a string?"
   ]
  },
  {
   "cell_type": "markdown",
   "metadata": {},
   "source": [
    "right-justify :- rjust()\n",
    "\n",
    "left-justify :- ljust()\n",
    "\n",
    "center :- center()"
   ]
  },
  {
   "cell_type": "markdown",
   "metadata": {},
   "source": [
    "#### What is the best way to remove whitespace characters from the start or end?"
   ]
  },
  {
   "cell_type": "markdown",
   "metadata": {},
   "source": [
    "With the help of the method lstrip() and rstrip() we can remove whitespece from the string . "
   ]
  }
 ],
 "metadata": {
  "kernelspec": {
   "display_name": "Python 3",
   "language": "python",
   "name": "python3"
  },
  "language_info": {
   "codemirror_mode": {
    "name": "ipython",
    "version": 3
   },
   "file_extension": ".py",
   "mimetype": "text/x-python",
   "name": "python",
   "nbconvert_exporter": "python",
   "pygments_lexer": "ipython3",
   "version": "3.7.6"
  }
 },
 "nbformat": 4,
 "nbformat_minor": 4
}
